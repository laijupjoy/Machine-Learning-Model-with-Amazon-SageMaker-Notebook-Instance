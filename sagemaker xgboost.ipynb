{
  "cells": [
    {
      "cell_type": "markdown",
      "id": "d91a4b81",
      "metadata": {
        "id": "d91a4b81"
      },
      "source": [
        "# Sagemaker-XGBoost-Demo"
      ]
    },
    {
      "cell_type": "raw",
      "id": "be11436a",
      "metadata": {
        "id": "be11436a"
      },
      "source": [
        "Steps To Be Followed\n",
        "\n",
        "1.Importing necessary Libraries\n",
        "\n",
        "2.Creating S3 bucket\n",
        "\n",
        "3.Mapping Train And Test Data in S3\n",
        "\n",
        "4.Train the Model\n",
        "\n",
        "5.Mapping the path of the models in S3\n",
        "\n",
        "6.Deploy Machine Learning Model As Endpoints\n",
        "\n",
        "7.Evaluate the Model"
      ]
    },
    {
      "cell_type": "code",
      "execution_count": null,
      "id": "215f26c2",
      "metadata": {
        "id": "215f26c2"
      },
      "outputs": [],
      "source": [
        "# import libraries\n",
        "import sagemaker, boto3, os\n",
        "from sagemaker.debugger import Rule, rule_configs\n",
        "from sagemaker.session import TrainingInput\n",
        "from IPython.display import FileLink, FileLinks\n",
        "import numpy as np\n",
        "import pandas as pd\n",
        "import sklearn\n",
        "import matplotlib.pyplot as plt"
      ]
    },
    {
      "cell_type": "code",
      "execution_count": null,
      "id": "38e0376e",
      "metadata": {
        "id": "38e0376e"
      },
      "outputs": [],
      "source": [
        "%conda install -c conda-forge shap # Install shap Python library\n",
        "    #SHAP is the acronym for SHapley Additive exPlanations"
      ]
    },
    {
      "cell_type": "code",
      "execution_count": null,
      "id": "31f09ebf",
      "metadata": {
        "id": "31f09ebf",
        "outputId": "7964202d-9688-4eba-97a7-2a515124621f"
      },
      "outputs": [
        {
          "name": "stdout",
          "output_type": "stream",
          "text": [
            "Requirement already satisfied: shap==0.39.0 in /home/ec2-user/anaconda3/envs/python3/lib/python3.6/site-packages (0.39.0)\n",
            "Requirement already satisfied: scipy in /home/ec2-user/anaconda3/envs/python3/lib/python3.6/site-packages (from shap==0.39.0) (1.5.3)\n",
            "Requirement already satisfied: tqdm>4.25.0 in /home/ec2-user/anaconda3/envs/python3/lib/python3.6/site-packages (from shap==0.39.0) (4.62.3)\n",
            "Requirement already satisfied: slicer==0.0.7 in /home/ec2-user/anaconda3/envs/python3/lib/python3.6/site-packages (from shap==0.39.0) (0.0.7)\n",
            "Requirement already satisfied: scikit-learn in /home/ec2-user/anaconda3/envs/python3/lib/python3.6/site-packages (from shap==0.39.0) (0.24.1)\n",
            "Requirement already satisfied: numba in /home/ec2-user/anaconda3/envs/python3/lib/python3.6/site-packages (from shap==0.39.0) (0.52.0)\n",
            "Requirement already satisfied: pandas in /home/ec2-user/anaconda3/envs/python3/lib/python3.6/site-packages (from shap==0.39.0) (1.1.5)\n",
            "Requirement already satisfied: numpy in /home/ec2-user/anaconda3/envs/python3/lib/python3.6/site-packages (from shap==0.39.0) (1.19.5)\n",
            "Requirement already satisfied: cloudpickle in /home/ec2-user/anaconda3/envs/python3/lib/python3.6/site-packages (from shap==0.39.0) (1.6.0)\n",
            "Requirement already satisfied: llvmlite<0.36,>=0.35.0 in /home/ec2-user/anaconda3/envs/python3/lib/python3.6/site-packages (from numba->shap==0.39.0) (0.35.0)\n",
            "Requirement already satisfied: setuptools in /home/ec2-user/anaconda3/envs/python3/lib/python3.6/site-packages (from numba->shap==0.39.0) (58.5.3)\n",
            "Requirement already satisfied: python-dateutil>=2.7.3 in /home/ec2-user/anaconda3/envs/python3/lib/python3.6/site-packages (from pandas->shap==0.39.0) (2.8.2)\n",
            "Requirement already satisfied: pytz>=2017.2 in /home/ec2-user/anaconda3/envs/python3/lib/python3.6/site-packages (from pandas->shap==0.39.0) (2021.3)\n",
            "Requirement already satisfied: threadpoolctl>=2.0.0 in /home/ec2-user/anaconda3/envs/python3/lib/python3.6/site-packages (from scikit-learn->shap==0.39.0) (2.1.0)\n",
            "Requirement already satisfied: joblib>=0.11 in /home/ec2-user/anaconda3/envs/python3/lib/python3.6/site-packages (from scikit-learn->shap==0.39.0) (1.0.1)\n",
            "Requirement already satisfied: six>=1.5 in /home/ec2-user/anaconda3/envs/python3/lib/python3.6/site-packages (from python-dateutil>=2.7.3->pandas->shap==0.39.0) (1.16.0)\n",
            "Note: you may need to restart the kernel to use updated packages.\n"
          ]
        }
      ],
      "source": [
        "pip install shap==0.39.0 # Install shap Python library"
      ]
    },
    {
      "cell_type": "code",
      "execution_count": null,
      "id": "89a52499",
      "metadata": {
        "id": "89a52499"
      },
      "outputs": [],
      "source": [
        "import shap #SHAP is the acronym for SHapley Additive exPlanations"
      ]
    },
    {
      "cell_type": "code",
      "execution_count": null,
      "id": "238aefe3",
      "metadata": {
        "id": "238aefe3",
        "outputId": "b40574b6-9c4c-4c66-cc2a-42cf06764b17"
      },
      "outputs": [
        {
          "name": "stdout",
          "output_type": "stream",
          "text": [
            "AWS Region: us-east-1\n",
            "Role: arn:aws:iam::471071075551:role/service-role/AmazonSageMaker-ExecutionRole-20211208T103977\n"
          ]
        }
      ],
      "source": [
        "# Define IAM role\n",
        "\n",
        "my_region = sagemaker.Session().boto_region_name # set the region of the instance\n",
        "print(\"AWS Region: {}\".format(my_region))\n",
        "\n",
        "role = sagemaker.get_execution_role()\n",
        "print(\"Role: {}\".format(role))\n",
        "\n",
        "prefix = 'sagemaker-xgboost'"
      ]
    },
    {
      "cell_type": "markdown",
      "id": "ab6dcddb",
      "metadata": {
        "id": "ab6dcddb"
      },
      "source": [
        "## Explore and Transform Dataset"
      ]
    },
    {
      "cell_type": "code",
      "execution_count": null,
      "id": "565cd375",
      "metadata": {
        "id": "565cd375",
        "outputId": "f8da650b-c55e-4ed6-d43d-edee26e7719e"
      },
      "outputs": [
        {
          "data": {
            "text/plain": [
              "['Age',\n",
              " 'Workclass',\n",
              " 'Education-Num',\n",
              " 'Marital Status',\n",
              " 'Occupation',\n",
              " 'Relationship',\n",
              " 'Race',\n",
              " 'Sex',\n",
              " 'Capital Gain',\n",
              " 'Capital Loss',\n",
              " 'Hours per week',\n",
              " 'Country']"
            ]
          },
          "execution_count": 7,
          "metadata": {},
          "output_type": "execute_result"
        }
      ],
      "source": [
        "X, y = shap.datasets.adult()\n",
        "X_display, y_display = shap.datasets.adult(display=True)\n",
        "feature_names = list(X.columns)\n",
        "feature_names"
      ]
    },
    {
      "cell_type": "code",
      "execution_count": null,
      "id": "2bac8ff3",
      "metadata": {
        "id": "2bac8ff3",
        "outputId": "673bd178-4c3b-4b0a-97b0-3b1f448de02c"
      },
      "outputs": [
        {
          "data": {
            "text/html": [
              "<div>\n",
              "<style scoped>\n",
              "    .dataframe tbody tr th:only-of-type {\n",
              "        vertical-align: middle;\n",
              "    }\n",
              "\n",
              "    .dataframe tbody tr th {\n",
              "        vertical-align: top;\n",
              "    }\n",
              "\n",
              "    .dataframe thead th {\n",
              "        text-align: right;\n",
              "    }\n",
              "</style>\n",
              "<table border=\"1\" class=\"dataframe\">\n",
              "  <thead>\n",
              "    <tr style=\"text-align: right;\">\n",
              "      <th></th>\n",
              "      <th>Age</th>\n",
              "      <th>Workclass</th>\n",
              "      <th>Education-Num</th>\n",
              "      <th>Marital Status</th>\n",
              "      <th>Occupation</th>\n",
              "      <th>Relationship</th>\n",
              "      <th>Race</th>\n",
              "      <th>Sex</th>\n",
              "      <th>Capital Gain</th>\n",
              "      <th>Capital Loss</th>\n",
              "      <th>Hours per week</th>\n",
              "      <th>Country</th>\n",
              "    </tr>\n",
              "  </thead>\n",
              "  <tbody>\n",
              "    <tr>\n",
              "      <th>count</th>\n",
              "      <td>32561.000000</td>\n",
              "      <td>32561.000000</td>\n",
              "      <td>32561.000000</td>\n",
              "      <td>32561.000000</td>\n",
              "      <td>32561.000000</td>\n",
              "      <td>32561.000000</td>\n",
              "      <td>32561.000000</td>\n",
              "      <td>32561.000000</td>\n",
              "      <td>32561.000000</td>\n",
              "      <td>32561.000000</td>\n",
              "      <td>32561.000000</td>\n",
              "      <td>32561.000000</td>\n",
              "    </tr>\n",
              "    <tr>\n",
              "      <th>mean</th>\n",
              "      <td>38.581646</td>\n",
              "      <td>3.868892</td>\n",
              "      <td>10.080679</td>\n",
              "      <td>2.611836</td>\n",
              "      <td>6.572740</td>\n",
              "      <td>2.494518</td>\n",
              "      <td>3.665858</td>\n",
              "      <td>0.669205</td>\n",
              "      <td>1077.649170</td>\n",
              "      <td>87.303833</td>\n",
              "      <td>40.437454</td>\n",
              "      <td>36.718866</td>\n",
              "    </tr>\n",
              "    <tr>\n",
              "      <th>std</th>\n",
              "      <td>13.640442</td>\n",
              "      <td>1.455960</td>\n",
              "      <td>2.572562</td>\n",
              "      <td>1.506222</td>\n",
              "      <td>4.228857</td>\n",
              "      <td>1.758232</td>\n",
              "      <td>0.848806</td>\n",
              "      <td>0.470506</td>\n",
              "      <td>7385.911621</td>\n",
              "      <td>403.014771</td>\n",
              "      <td>12.347933</td>\n",
              "      <td>7.823782</td>\n",
              "    </tr>\n",
              "    <tr>\n",
              "      <th>min</th>\n",
              "      <td>17.000000</td>\n",
              "      <td>0.000000</td>\n",
              "      <td>1.000000</td>\n",
              "      <td>0.000000</td>\n",
              "      <td>0.000000</td>\n",
              "      <td>0.000000</td>\n",
              "      <td>0.000000</td>\n",
              "      <td>0.000000</td>\n",
              "      <td>0.000000</td>\n",
              "      <td>0.000000</td>\n",
              "      <td>1.000000</td>\n",
              "      <td>0.000000</td>\n",
              "    </tr>\n",
              "    <tr>\n",
              "      <th>25%</th>\n",
              "      <td>28.000000</td>\n",
              "      <td>4.000000</td>\n",
              "      <td>9.000000</td>\n",
              "      <td>2.000000</td>\n",
              "      <td>3.000000</td>\n",
              "      <td>0.000000</td>\n",
              "      <td>4.000000</td>\n",
              "      <td>0.000000</td>\n",
              "      <td>0.000000</td>\n",
              "      <td>0.000000</td>\n",
              "      <td>40.000000</td>\n",
              "      <td>39.000000</td>\n",
              "    </tr>\n",
              "    <tr>\n",
              "      <th>50%</th>\n",
              "      <td>37.000000</td>\n",
              "      <td>4.000000</td>\n",
              "      <td>10.000000</td>\n",
              "      <td>2.000000</td>\n",
              "      <td>7.000000</td>\n",
              "      <td>3.000000</td>\n",
              "      <td>4.000000</td>\n",
              "      <td>1.000000</td>\n",
              "      <td>0.000000</td>\n",
              "      <td>0.000000</td>\n",
              "      <td>40.000000</td>\n",
              "      <td>39.000000</td>\n",
              "    </tr>\n",
              "    <tr>\n",
              "      <th>75%</th>\n",
              "      <td>48.000000</td>\n",
              "      <td>4.000000</td>\n",
              "      <td>12.000000</td>\n",
              "      <td>4.000000</td>\n",
              "      <td>10.000000</td>\n",
              "      <td>4.000000</td>\n",
              "      <td>4.000000</td>\n",
              "      <td>1.000000</td>\n",
              "      <td>0.000000</td>\n",
              "      <td>0.000000</td>\n",
              "      <td>45.000000</td>\n",
              "      <td>39.000000</td>\n",
              "    </tr>\n",
              "    <tr>\n",
              "      <th>max</th>\n",
              "      <td>90.000000</td>\n",
              "      <td>8.000000</td>\n",
              "      <td>16.000000</td>\n",
              "      <td>6.000000</td>\n",
              "      <td>14.000000</td>\n",
              "      <td>5.000000</td>\n",
              "      <td>4.000000</td>\n",
              "      <td>1.000000</td>\n",
              "      <td>99999.000000</td>\n",
              "      <td>4356.000000</td>\n",
              "      <td>99.000000</td>\n",
              "      <td>41.000000</td>\n",
              "    </tr>\n",
              "  </tbody>\n",
              "</table>\n",
              "</div>"
            ],
            "text/plain": [
              "                Age     Workclass  Education-Num  Marital Status  \\\n",
              "count  32561.000000  32561.000000   32561.000000    32561.000000   \n",
              "mean      38.581646      3.868892      10.080679        2.611836   \n",
              "std       13.640442      1.455960       2.572562        1.506222   \n",
              "min       17.000000      0.000000       1.000000        0.000000   \n",
              "25%       28.000000      4.000000       9.000000        2.000000   \n",
              "50%       37.000000      4.000000      10.000000        2.000000   \n",
              "75%       48.000000      4.000000      12.000000        4.000000   \n",
              "max       90.000000      8.000000      16.000000        6.000000   \n",
              "\n",
              "         Occupation  Relationship          Race           Sex  Capital Gain  \\\n",
              "count  32561.000000  32561.000000  32561.000000  32561.000000  32561.000000   \n",
              "mean       6.572740      2.494518      3.665858      0.669205   1077.649170   \n",
              "std        4.228857      1.758232      0.848806      0.470506   7385.911621   \n",
              "min        0.000000      0.000000      0.000000      0.000000      0.000000   \n",
              "25%        3.000000      0.000000      4.000000      0.000000      0.000000   \n",
              "50%        7.000000      3.000000      4.000000      1.000000      0.000000   \n",
              "75%       10.000000      4.000000      4.000000      1.000000      0.000000   \n",
              "max       14.000000      5.000000      4.000000      1.000000  99999.000000   \n",
              "\n",
              "       Capital Loss  Hours per week       Country  \n",
              "count  32561.000000    32561.000000  32561.000000  \n",
              "mean      87.303833       40.437454     36.718866  \n",
              "std      403.014771       12.347933      7.823782  \n",
              "min        0.000000        1.000000      0.000000  \n",
              "25%        0.000000       40.000000     39.000000  \n",
              "50%        0.000000       40.000000     39.000000  \n",
              "75%        0.000000       45.000000     39.000000  \n",
              "max     4356.000000       99.000000     41.000000  "
            ]
          },
          "metadata": {},
          "output_type": "display_data"
        },
        {
          "data": {
            "image/png": "[encoded data removed]",
            "text/plain": [
              "<Figure size 1440x720 with 12 Axes>"
            ]
          },
          "metadata": {
            "needs_background": "light"
          },
          "output_type": "display_data"
        }
      ],
      "source": [
        "display(X.describe())\n",
        "hist =X.hist(bins=30, sharey=True, figsize=(20,10))"
      ]
    },
    {
      "cell_type": "code",
      "execution_count": null,
      "id": "5e224fcc",
      "metadata": {
        "id": "5e224fcc"
      },
      "outputs": [],
      "source": [
        "# Train and Test Split\n",
        "from sklearn.model_selection import train_test_split\n",
        "X_train, X_test, y_train, y_test = train_test_split(X, y, test_size=0.2, random_state=1)\n",
        "X_train_display = X_display.loc[X_train.index]"
      ]
    },
    {
      "cell_type": "code",
      "execution_count": null,
      "id": "af67f479",
      "metadata": {
        "id": "af67f479"
      },
      "outputs": [],
      "source": [
        "#reformat the CSV data, dependent feature should be the first coloumn\n",
        "import pandas as pd\n",
        "train = pd.concat([pd.Series(y_train, index=X_train.index, name='Income>50K', dtype=int), X_train], axis=1)\n",
        "test = pd.concat([pd.Series(y_test, index=X_test.index, name='Income>50K', dtype=int), X_test], axis=1)"
      ]
    },
    {
      "cell_type": "code",
      "execution_count": null,
      "id": "ba9445ab",
      "metadata": {
        "id": "ba9445ab",
        "outputId": "b4c990c5-0e31-45ad-d6b9-74d07be6bf49"
      },
      "outputs": [
        {
          "data": {
            "text/html": [
              "<div>\n",
              "<style scoped>\n",
              "    .dataframe tbody tr th:only-of-type {\n",
              "        vertical-align: middle;\n",
              "    }\n",
              "\n",
              "    .dataframe tbody tr th {\n",
              "        vertical-align: top;\n",
              "    }\n",
              "\n",
              "    .dataframe thead th {\n",
              "        text-align: right;\n",
              "    }\n",
              "</style>\n",
              "<table border=\"1\" class=\"dataframe\">\n",
              "  <thead>\n",
              "    <tr style=\"text-align: right;\">\n",
              "      <th></th>\n",
              "      <th>Income&gt;50K</th>\n",
              "      <th>Age</th>\n",
              "      <th>Workclass</th>\n",
              "      <th>Education-Num</th>\n",
              "      <th>Marital Status</th>\n",
              "      <th>Occupation</th>\n",
              "      <th>Relationship</th>\n",
              "      <th>Race</th>\n",
              "      <th>Sex</th>\n",
              "      <th>Capital Gain</th>\n",
              "      <th>Capital Loss</th>\n",
              "      <th>Hours per week</th>\n",
              "      <th>Country</th>\n",
              "    </tr>\n",
              "  </thead>\n",
              "  <tbody>\n",
              "    <tr>\n",
              "      <th>16465</th>\n",
              "      <td>0</td>\n",
              "      <td>39.0</td>\n",
              "      <td>6</td>\n",
              "      <td>7.0</td>\n",
              "      <td>2</td>\n",
              "      <td>14</td>\n",
              "      <td>4</td>\n",
              "      <td>4</td>\n",
              "      <td>1</td>\n",
              "      <td>0.0</td>\n",
              "      <td>0.0</td>\n",
              "      <td>40.0</td>\n",
              "      <td>39</td>\n",
              "    </tr>\n",
              "    <tr>\n",
              "      <th>5625</th>\n",
              "      <td>1</td>\n",
              "      <td>54.0</td>\n",
              "      <td>6</td>\n",
              "      <td>13.0</td>\n",
              "      <td>2</td>\n",
              "      <td>4</td>\n",
              "      <td>4</td>\n",
              "      <td>4</td>\n",
              "      <td>1</td>\n",
              "      <td>0.0</td>\n",
              "      <td>0.0</td>\n",
              "      <td>40.0</td>\n",
              "      <td>39</td>\n",
              "    </tr>\n",
              "    <tr>\n",
              "      <th>30273</th>\n",
              "      <td>1</td>\n",
              "      <td>32.0</td>\n",
              "      <td>4</td>\n",
              "      <td>9.0</td>\n",
              "      <td>2</td>\n",
              "      <td>12</td>\n",
              "      <td>4</td>\n",
              "      <td>4</td>\n",
              "      <td>1</td>\n",
              "      <td>0.0</td>\n",
              "      <td>1902.0</td>\n",
              "      <td>50.0</td>\n",
              "      <td>39</td>\n",
              "    </tr>\n",
              "    <tr>\n",
              "      <th>3136</th>\n",
              "      <td>0</td>\n",
              "      <td>45.0</td>\n",
              "      <td>6</td>\n",
              "      <td>10.0</td>\n",
              "      <td>4</td>\n",
              "      <td>5</td>\n",
              "      <td>0</td>\n",
              "      <td>4</td>\n",
              "      <td>1</td>\n",
              "      <td>0.0</td>\n",
              "      <td>0.0</td>\n",
              "      <td>50.0</td>\n",
              "      <td>39</td>\n",
              "    </tr>\n",
              "    <tr>\n",
              "      <th>4521</th>\n",
              "      <td>0</td>\n",
              "      <td>60.0</td>\n",
              "      <td>4</td>\n",
              "      <td>6.0</td>\n",
              "      <td>2</td>\n",
              "      <td>6</td>\n",
              "      <td>4</td>\n",
              "      <td>2</td>\n",
              "      <td>1</td>\n",
              "      <td>0.0</td>\n",
              "      <td>0.0</td>\n",
              "      <td>40.0</td>\n",
              "      <td>39</td>\n",
              "    </tr>\n",
              "    <tr>\n",
              "      <th>...</th>\n",
              "      <td>...</td>\n",
              "      <td>...</td>\n",
              "      <td>...</td>\n",
              "      <td>...</td>\n",
              "      <td>...</td>\n",
              "      <td>...</td>\n",
              "      <td>...</td>\n",
              "      <td>...</td>\n",
              "      <td>...</td>\n",
              "      <td>...</td>\n",
              "      <td>...</td>\n",
              "      <td>...</td>\n",
              "      <td>...</td>\n",
              "    </tr>\n",
              "    <tr>\n",
              "      <th>32511</th>\n",
              "      <td>0</td>\n",
              "      <td>25.0</td>\n",
              "      <td>2</td>\n",
              "      <td>13.0</td>\n",
              "      <td>4</td>\n",
              "      <td>1</td>\n",
              "      <td>3</td>\n",
              "      <td>2</td>\n",
              "      <td>0</td>\n",
              "      <td>0.0</td>\n",
              "      <td>0.0</td>\n",
              "      <td>40.0</td>\n",
              "      <td>39</td>\n",
              "    </tr>\n",
              "    <tr>\n",
              "      <th>5192</th>\n",
              "      <td>1</td>\n",
              "      <td>32.0</td>\n",
              "      <td>4</td>\n",
              "      <td>13.0</td>\n",
              "      <td>2</td>\n",
              "      <td>4</td>\n",
              "      <td>4</td>\n",
              "      <td>4</td>\n",
              "      <td>1</td>\n",
              "      <td>15024.0</td>\n",
              "      <td>0.0</td>\n",
              "      <td>45.0</td>\n",
              "      <td>39</td>\n",
              "    </tr>\n",
              "    <tr>\n",
              "      <th>12172</th>\n",
              "      <td>0</td>\n",
              "      <td>27.0</td>\n",
              "      <td>4</td>\n",
              "      <td>13.0</td>\n",
              "      <td>4</td>\n",
              "      <td>7</td>\n",
              "      <td>0</td>\n",
              "      <td>1</td>\n",
              "      <td>1</td>\n",
              "      <td>0.0</td>\n",
              "      <td>0.0</td>\n",
              "      <td>40.0</td>\n",
              "      <td>0</td>\n",
              "    </tr>\n",
              "    <tr>\n",
              "      <th>235</th>\n",
              "      <td>0</td>\n",
              "      <td>59.0</td>\n",
              "      <td>7</td>\n",
              "      <td>9.0</td>\n",
              "      <td>2</td>\n",
              "      <td>8</td>\n",
              "      <td>4</td>\n",
              "      <td>4</td>\n",
              "      <td>1</td>\n",
              "      <td>0.0</td>\n",
              "      <td>0.0</td>\n",
              "      <td>40.0</td>\n",
              "      <td>39</td>\n",
              "    </tr>\n",
              "    <tr>\n",
              "      <th>29733</th>\n",
              "      <td>1</td>\n",
              "      <td>33.0</td>\n",
              "      <td>4</td>\n",
              "      <td>13.0</td>\n",
              "      <td>2</td>\n",
              "      <td>1</td>\n",
              "      <td>4</td>\n",
              "      <td>4</td>\n",
              "      <td>1</td>\n",
              "      <td>0.0</td>\n",
              "      <td>1902.0</td>\n",
              "      <td>45.0</td>\n",
              "      <td>39</td>\n",
              "    </tr>\n",
              "  </tbody>\n",
              "</table>\n",
              "<p>26048 rows × 13 columns</p>\n",
              "</div>"
            ],
            "text/plain": [
              "       Income>50K   Age  Workclass  Education-Num  Marital Status  Occupation  \\\n",
              "16465           0  39.0          6            7.0               2          14   \n",
              "5625            1  54.0          6           13.0               2           4   \n",
              "30273           1  32.0          4            9.0               2          12   \n",
              "3136            0  45.0          6           10.0               4           5   \n",
              "4521            0  60.0          4            6.0               2           6   \n",
              "...           ...   ...        ...            ...             ...         ...   \n",
              "32511           0  25.0          2           13.0               4           1   \n",
              "5192            1  32.0          4           13.0               2           4   \n",
              "12172           0  27.0          4           13.0               4           7   \n",
              "235             0  59.0          7            9.0               2           8   \n",
              "29733           1  33.0          4           13.0               2           1   \n",
              "\n",
              "       Relationship  Race  Sex  Capital Gain  Capital Loss  Hours per week  \\\n",
              "16465             4     4    1           0.0           0.0            40.0   \n",
              "5625              4     4    1           0.0           0.0            40.0   \n",
              "30273             4     4    1           0.0        1902.0            50.0   \n",
              "3136              0     4    1           0.0           0.0            50.0   \n",
              "4521              4     2    1           0.0           0.0            40.0   \n",
              "...             ...   ...  ...           ...           ...             ...   \n",
              "32511             3     2    0           0.0           0.0            40.0   \n",
              "5192              4     4    1       15024.0           0.0            45.0   \n",
              "12172             0     1    1           0.0           0.0            40.0   \n",
              "235               4     4    1           0.0           0.0            40.0   \n",
              "29733             4     4    1           0.0        1902.0            45.0   \n",
              "\n",
              "       Country  \n",
              "16465       39  \n",
              "5625        39  \n",
              "30273       39  \n",
              "3136        39  \n",
              "4521        39  \n",
              "...        ...  \n",
              "32511       39  \n",
              "5192        39  \n",
              "12172        0  \n",
              "235         39  \n",
              "29733       39  \n",
              "\n",
              "[26048 rows x 13 columns]"
            ]
          },
          "execution_count": 18,
          "metadata": {},
          "output_type": "execute_result"
        }
      ],
      "source": [
        "train"
      ]
    },
    {
      "cell_type": "code",
      "execution_count": null,
      "id": "5b34586c",
      "metadata": {
        "id": "5b34586c",
        "outputId": "81e1403a-55ea-4581-8a08-b52078c36f08"
      },
      "outputs": [
        {
          "data": {
            "text/html": [
              "<div>\n",
              "<style scoped>\n",
              "    .dataframe tbody tr th:only-of-type {\n",
              "        vertical-align: middle;\n",
              "    }\n",
              "\n",
              "    .dataframe tbody tr th {\n",
              "        vertical-align: top;\n",
              "    }\n",
              "\n",
              "    .dataframe thead th {\n",
              "        text-align: right;\n",
              "    }\n",
              "</style>\n",
              "<table border=\"1\" class=\"dataframe\">\n",
              "  <thead>\n",
              "    <tr style=\"text-align: right;\">\n",
              "      <th></th>\n",
              "      <th>Income&gt;50K</th>\n",
              "      <th>Age</th>\n",
              "      <th>Workclass</th>\n",
              "      <th>Education-Num</th>\n",
              "      <th>Marital Status</th>\n",
              "      <th>Occupation</th>\n",
              "      <th>Relationship</th>\n",
              "      <th>Race</th>\n",
              "      <th>Sex</th>\n",
              "      <th>Capital Gain</th>\n",
              "      <th>Capital Loss</th>\n",
              "      <th>Hours per week</th>\n",
              "      <th>Country</th>\n",
              "    </tr>\n",
              "  </thead>\n",
              "  <tbody>\n",
              "    <tr>\n",
              "      <th>9646</th>\n",
              "      <td>0</td>\n",
              "      <td>62.0</td>\n",
              "      <td>6</td>\n",
              "      <td>4.0</td>\n",
              "      <td>6</td>\n",
              "      <td>8</td>\n",
              "      <td>0</td>\n",
              "      <td>4</td>\n",
              "      <td>0</td>\n",
              "      <td>0.0</td>\n",
              "      <td>0.0</td>\n",
              "      <td>66.0</td>\n",
              "      <td>39</td>\n",
              "    </tr>\n",
              "    <tr>\n",
              "      <th>709</th>\n",
              "      <td>0</td>\n",
              "      <td>18.0</td>\n",
              "      <td>4</td>\n",
              "      <td>7.0</td>\n",
              "      <td>4</td>\n",
              "      <td>8</td>\n",
              "      <td>2</td>\n",
              "      <td>4</td>\n",
              "      <td>1</td>\n",
              "      <td>0.0</td>\n",
              "      <td>0.0</td>\n",
              "      <td>25.0</td>\n",
              "      <td>39</td>\n",
              "    </tr>\n",
              "    <tr>\n",
              "      <th>7385</th>\n",
              "      <td>1</td>\n",
              "      <td>25.0</td>\n",
              "      <td>4</td>\n",
              "      <td>13.0</td>\n",
              "      <td>4</td>\n",
              "      <td>5</td>\n",
              "      <td>3</td>\n",
              "      <td>4</td>\n",
              "      <td>1</td>\n",
              "      <td>27828.0</td>\n",
              "      <td>0.0</td>\n",
              "      <td>50.0</td>\n",
              "      <td>39</td>\n",
              "    </tr>\n",
              "    <tr>\n",
              "      <th>16671</th>\n",
              "      <td>0</td>\n",
              "      <td>33.0</td>\n",
              "      <td>4</td>\n",
              "      <td>9.0</td>\n",
              "      <td>2</td>\n",
              "      <td>10</td>\n",
              "      <td>4</td>\n",
              "      <td>4</td>\n",
              "      <td>1</td>\n",
              "      <td>0.0</td>\n",
              "      <td>0.0</td>\n",
              "      <td>40.0</td>\n",
              "      <td>39</td>\n",
              "    </tr>\n",
              "    <tr>\n",
              "      <th>21932</th>\n",
              "      <td>0</td>\n",
              "      <td>36.0</td>\n",
              "      <td>4</td>\n",
              "      <td>7.0</td>\n",
              "      <td>4</td>\n",
              "      <td>7</td>\n",
              "      <td>1</td>\n",
              "      <td>4</td>\n",
              "      <td>0</td>\n",
              "      <td>0.0</td>\n",
              "      <td>0.0</td>\n",
              "      <td>40.0</td>\n",
              "      <td>39</td>\n",
              "    </tr>\n",
              "    <tr>\n",
              "      <th>...</th>\n",
              "      <td>...</td>\n",
              "      <td>...</td>\n",
              "      <td>...</td>\n",
              "      <td>...</td>\n",
              "      <td>...</td>\n",
              "      <td>...</td>\n",
              "      <td>...</td>\n",
              "      <td>...</td>\n",
              "      <td>...</td>\n",
              "      <td>...</td>\n",
              "      <td>...</td>\n",
              "      <td>...</td>\n",
              "      <td>...</td>\n",
              "    </tr>\n",
              "    <tr>\n",
              "      <th>5889</th>\n",
              "      <td>1</td>\n",
              "      <td>39.0</td>\n",
              "      <td>4</td>\n",
              "      <td>13.0</td>\n",
              "      <td>2</td>\n",
              "      <td>10</td>\n",
              "      <td>5</td>\n",
              "      <td>4</td>\n",
              "      <td>0</td>\n",
              "      <td>0.0</td>\n",
              "      <td>0.0</td>\n",
              "      <td>20.0</td>\n",
              "      <td>39</td>\n",
              "    </tr>\n",
              "    <tr>\n",
              "      <th>25723</th>\n",
              "      <td>0</td>\n",
              "      <td>17.0</td>\n",
              "      <td>4</td>\n",
              "      <td>6.0</td>\n",
              "      <td>4</td>\n",
              "      <td>12</td>\n",
              "      <td>3</td>\n",
              "      <td>4</td>\n",
              "      <td>0</td>\n",
              "      <td>0.0</td>\n",
              "      <td>0.0</td>\n",
              "      <td>20.0</td>\n",
              "      <td>39</td>\n",
              "    </tr>\n",
              "    <tr>\n",
              "      <th>29514</th>\n",
              "      <td>0</td>\n",
              "      <td>35.0</td>\n",
              "      <td>4</td>\n",
              "      <td>9.0</td>\n",
              "      <td>4</td>\n",
              "      <td>14</td>\n",
              "      <td>3</td>\n",
              "      <td>4</td>\n",
              "      <td>1</td>\n",
              "      <td>0.0</td>\n",
              "      <td>0.0</td>\n",
              "      <td>40.0</td>\n",
              "      <td>39</td>\n",
              "    </tr>\n",
              "    <tr>\n",
              "      <th>1600</th>\n",
              "      <td>0</td>\n",
              "      <td>30.0</td>\n",
              "      <td>4</td>\n",
              "      <td>7.0</td>\n",
              "      <td>2</td>\n",
              "      <td>3</td>\n",
              "      <td>4</td>\n",
              "      <td>4</td>\n",
              "      <td>1</td>\n",
              "      <td>0.0</td>\n",
              "      <td>0.0</td>\n",
              "      <td>45.0</td>\n",
              "      <td>39</td>\n",
              "    </tr>\n",
              "    <tr>\n",
              "      <th>639</th>\n",
              "      <td>1</td>\n",
              "      <td>52.0</td>\n",
              "      <td>6</td>\n",
              "      <td>16.0</td>\n",
              "      <td>2</td>\n",
              "      <td>10</td>\n",
              "      <td>4</td>\n",
              "      <td>4</td>\n",
              "      <td>1</td>\n",
              "      <td>0.0</td>\n",
              "      <td>0.0</td>\n",
              "      <td>60.0</td>\n",
              "      <td>39</td>\n",
              "    </tr>\n",
              "  </tbody>\n",
              "</table>\n",
              "<p>6513 rows × 13 columns</p>\n",
              "</div>"
            ],
            "text/plain": [
              "       Income>50K   Age  Workclass  Education-Num  Marital Status  Occupation  \\\n",
              "9646            0  62.0          6            4.0               6           8   \n",
              "709             0  18.0          4            7.0               4           8   \n",
              "7385            1  25.0          4           13.0               4           5   \n",
              "16671           0  33.0          4            9.0               2          10   \n",
              "21932           0  36.0          4            7.0               4           7   \n",
              "...           ...   ...        ...            ...             ...         ...   \n",
              "5889            1  39.0          4           13.0               2          10   \n",
              "25723           0  17.0          4            6.0               4          12   \n",
              "29514           0  35.0          4            9.0               4          14   \n",
              "1600            0  30.0          4            7.0               2           3   \n",
              "639             1  52.0          6           16.0               2          10   \n",
              "\n",
              "       Relationship  Race  Sex  Capital Gain  Capital Loss  Hours per week  \\\n",
              "9646              0     4    0           0.0           0.0            66.0   \n",
              "709               2     4    1           0.0           0.0            25.0   \n",
              "7385              3     4    1       27828.0           0.0            50.0   \n",
              "16671             4     4    1           0.0           0.0            40.0   \n",
              "21932             1     4    0           0.0           0.0            40.0   \n",
              "...             ...   ...  ...           ...           ...             ...   \n",
              "5889              5     4    0           0.0           0.0            20.0   \n",
              "25723             3     4    0           0.0           0.0            20.0   \n",
              "29514             3     4    1           0.0           0.0            40.0   \n",
              "1600              4     4    1           0.0           0.0            45.0   \n",
              "639               4     4    1           0.0           0.0            60.0   \n",
              "\n",
              "       Country  \n",
              "9646        39  \n",
              "709         39  \n",
              "7385        39  \n",
              "16671       39  \n",
              "21932       39  \n",
              "...        ...  \n",
              "5889        39  \n",
              "25723       39  \n",
              "29514       39  \n",
              "1600        39  \n",
              "639         39  \n",
              "\n",
              "[6513 rows x 13 columns]"
            ]
          },
          "execution_count": 19,
          "metadata": {},
          "output_type": "execute_result"
        }
      ],
      "source": [
        "test"
      ]
    },
    {
      "cell_type": "code",
      "execution_count": null,
      "id": "bfa34cf4",
      "metadata": {
        "id": "bfa34cf4"
      },
      "outputs": [],
      "source": [
        "#use csv format to store the data\n",
        "#the first column s expected to be the output column\n",
        "\n",
        "train.to_csv('train.csv', index=False, header=False)\n",
        "test.to_csv('test.csv', index=False, header=False)"
      ]
    },
    {
      "cell_type": "markdown",
      "id": "a59b401d",
      "metadata": {
        "id": "a59b401d"
      },
      "source": [
        "## Create S3 Bucket"
      ]
    },
    {
      "cell_type": "code",
      "execution_count": null,
      "id": "41d01f05",
      "metadata": {
        "id": "41d01f05",
        "outputId": "9adbf352-a258-4353-f0df-f8cac417ae0c"
      },
      "outputs": [
        {
          "name": "stdout",
          "output_type": "stream",
          "text": [
            "S3 bucket created successfully\n"
          ]
        }
      ],
      "source": [
        "# Create S3 Bucket\n",
        "bucket_name = 'adault-income-data' # UNIQUE NAME FOR S3 BUCKET\n",
        "s3 = boto3.resource('s3')\n",
        "try:\n",
        "    if  my_region == 'us-east-1':\n",
        "      s3.create_bucket(Bucket=bucket_name)\n",
        "    else: \n",
        "      s3.create_bucket(Bucket=bucket_name, CreateBucketConfiguration={ 'LocationConstraint': my_region })\n",
        "    print('S3 bucket created successfully')\n",
        "except Exception as e:\n",
        "    print('S3 error: ',e)"
      ]
    },
    {
      "cell_type": "code",
      "execution_count": null,
      "id": "264e7ce5",
      "metadata": {
        "id": "264e7ce5"
      },
      "outputs": [],
      "source": [
        ""
      ]
    },
    {
      "cell_type": "markdown",
      "id": "6b7cfb3a",
      "metadata": {
        "id": "6b7cfb3a"
      },
      "source": [
        "### Saving Train And Test Into Buckets"
      ]
    },
    {
      "cell_type": "code",
      "execution_count": null,
      "id": "c7cbe58b",
      "metadata": {
        "id": "c7cbe58b"
      },
      "outputs": [],
      "source": [
        "# Train Data Into Buckets\n",
        "boto3.Session().resource('s3').Bucket(bucket_name).Object(os.path.join(prefix, 'train/train.csv')).upload_file('train.csv')\n",
        "s3_input_train = sagemaker.inputs.TrainingInput(s3_data='s3://{}/{}/train'.format(bucket_name, prefix), content_type='csv')"
      ]
    },
    {
      "cell_type": "code",
      "execution_count": null,
      "id": "05c61120",
      "metadata": {
        "id": "05c61120"
      },
      "outputs": [],
      "source": [
        "# Test Data Into Buckets\n",
        "boto3.Session().resource('s3').Bucket(bucket_name).Object(os.path.join(prefix, 'test/test.csv')).upload_file('test.csv')\n",
        "s3_input_test = sagemaker.inputs.TrainingInput(s3_data='s3://{}/{}/test'.format(bucket_name, prefix), content_type='csv')"
      ]
    },
    {
      "cell_type": "code",
      "execution_count": null,
      "id": "b4f7e822",
      "metadata": {
        "id": "b4f7e822",
        "outputId": "0a9191af-033b-4dcc-bc36-96e9834ff261"
      },
      "outputs": [
        {
          "name": "stdout",
          "output_type": "stream",
          "text": [
            "2021-12-08 06:02:52    1048407 train.csv\n",
            "2021-12-08 06:03:20     261911 test.csv\n"
          ]
        }
      ],
      "source": [
        "#check train and test data exist in S3 bucket\n",
        "! aws s3 ls {bucket_name}/{prefix}/train/\n",
        "! aws s3 ls {bucket_name}/{prefix}/test/"
      ]
    },
    {
      "cell_type": "code",
      "execution_count": null,
      "id": "4980a843",
      "metadata": {
        "id": "4980a843",
        "outputId": "dd9612f6-d460-41c8-db01-70769015a644"
      },
      "outputs": [
        {
          "name": "stdout",
          "output_type": "stream",
          "text": [
            "Success - the MySageMakerInstance is in the us-east-1 region. You will use the 811284229777.dkr.ecr.us-east-1.amazonaws.com/xgboost:latest container for your SageMaker endpoint.\n"
          ]
        }
      ],
      "source": [
        "# this line automatically looks for the XGBoost image URI and builds an XGBoost container.\n",
        "xgboost_container = sagemaker.image_uris.retrieve(\"xgboost\", my_region, \"latest\")\n",
        "\n",
        "print(\"Success - the MySageMakerInstance is in the \" + my_region + \" region. You will use the \" + xgboost_container + \" container for your SageMaker endpoint.\")"
      ]
    },
    {
      "cell_type": "code",
      "execution_count": null,
      "id": "de99a647",
      "metadata": {
        "id": "de99a647",
        "outputId": "86e709fc-282e-442d-b8c4-f473d9743d01"
      },
      "outputs": [
        {
          "name": "stdout",
          "output_type": "stream",
          "text": [
            "s3://adault-income-data/sagemaker-xgboost/output\n"
          ]
        }
      ],
      "source": [
        "# set an output path where the trained model will be saved\n",
        "output_path='s3://{}/{}/output'.format(bucket_name, prefix)\n",
        "print(output_path)"
      ]
    },
    {
      "cell_type": "code",
      "execution_count": null,
      "id": "0e0619a6",
      "metadata": {
        "id": "0e0619a6"
      },
      "outputs": [],
      "source": [
        "# construct a SageMaker estimator that calls the xgboost-container\n",
        "xgb_model=sagemaker.estimator.Estimator(\n",
        "    image_uri=xgboost_container,\n",
        "    role=role,\n",
        "    instance_count=1,\n",
        "    instance_type='ml.m4.xlarge',\n",
        "    volume_size=5,\n",
        "    output_path=output_path,\n",
        "    sagemaker_session=sagemaker.Session(),\n",
        "    rules=[Rule.sagemaker(rule_configs.create_xgboost_report())],\n",
        "    use_spot_instances=True,\n",
        "    max_run=300,\n",
        "    max_wait=600\n",
        ")"
      ]
    },
    {
      "cell_type": "code",
      "execution_count": null,
      "id": "1b88a63b",
      "metadata": {
        "id": "1b88a63b"
      },
      "outputs": [],
      "source": [
        "xgb_model.set_hyperparameters(\n",
        "    max_depth =5,\n",
        "    eta = 0.2,\n",
        "    gamma = 4,\n",
        "    min_child_weight = 6,\n",
        "    subsample = 0.7,\n",
        "    objective = \"binary:logistic\",\n",
        "    num_round = 100\n",
        ")"
      ]
    },
    {
      "cell_type": "code",
      "execution_count": null,
      "id": "c7449830",
      "metadata": {
        "id": "c7449830",
        "outputId": "b2166abf-548a-46b5-d41b-e333024f945e"
      },
      "outputs": [
        {
          "name": "stdout",
          "output_type": "stream",
          "text": [
            "2021-12-08 06:42:26 Starting - Starting the training job...\n",
            "2021-12-08 06:42:52 Starting - Launching requested ML instancesCreateXgboostReport: InProgress\n",
            "ProfilerReport-1638945746: InProgress\n",
            "......\n",
            "2021-12-08 06:43:52 Starting - Preparing the instances for training............\n",
            "2021-12-08 06:45:57 Downloading - Downloading input data\n",
            "2021-12-08 06:45:57 Training - Downloading the training image...\n",
            "2021-12-08 06:46:25 Uploading - Uploading generated training model\u001b[34mArguments: train\u001b[0m\n",
            "\u001b[34m[2021-12-08:06:46:21:INFO] Running standalone xgboost training.\u001b[0m\n",
            "\u001b[34m[2021-12-08:06:46:21:INFO] File size need to be processed in the node: 1.25mb. Available memory size in the node: 8340.89mb\u001b[0m\n",
            "\u001b[34m[2021-12-08:06:46:21:INFO] Determined delimiter of CSV input is ','\u001b[0m\n",
            "\u001b[34m[06:46:21] S3DistributionType set as FullyReplicated\u001b[0m\n",
            "\u001b[34m[06:46:21] 26048x12 matrix with 312576 entries loaded from /opt/ml/input/data/train?format=csv&label_column=0&delimiter=,\u001b[0m\n",
            "\u001b[34m[2021-12-08:06:46:21:INFO] Determined delimiter of CSV input is ','\u001b[0m\n",
            "\u001b[34m[06:46:21] S3DistributionType set as FullyReplicated\u001b[0m\n",
            "\u001b[34m[06:46:21] 6513x12 matrix with 78156 entries loaded from /opt/ml/input/data/validation?format=csv&label_column=0&delimiter=,\u001b[0m\n",
            "\u001b[34m[06:46:21] src/tree/updater_prune.cc:74: tree pruning end, 1 roots, 32 extra nodes, 8 pruned nodes, max_depth=5\u001b[0m\n",
            "\u001b[34m[0]#011train-error:0.153371#011validation-error:0.152618\u001b[0m\n",
            "\u001b[34m[06:46:21] src/tree/updater_prune.cc:74: tree pruning end, 1 roots, 38 extra nodes, 2 pruned nodes, max_depth=5\u001b[0m\n",
            "\u001b[34m[1]#011train-error:0.145232#011validation-error:0.144787\u001b[0m\n",
            "\u001b[34m[06:46:21] src/tree/updater_prune.cc:74: tree pruning end, 1 roots, 32 extra nodes, 6 pruned nodes, max_depth=5\u001b[0m\n",
            "\u001b[34m[2]#011train-error:0.145616#011validation-error:0.145248\u001b[0m\n",
            "\u001b[34m[06:46:21] src/tree/updater_prune.cc:74: tree pruning end, 1 roots, 36 extra nodes, 2 pruned nodes, max_depth=5\u001b[0m\n",
            "\u001b[34m[3]#011train-error:0.145078#011validation-error:0.143713\u001b[0m\n",
            "\u001b[34m[06:46:21] src/tree/updater_prune.cc:74: tree pruning end, 1 roots, 38 extra nodes, 2 pruned nodes, max_depth=5\u001b[0m\n",
            "\u001b[34m[4]#011train-error:0.145078#011validation-error:0.146169\u001b[0m\n",
            "\u001b[34m[06:46:21] src/tree/updater_prune.cc:74: tree pruning end, 1 roots, 32 extra nodes, 6 pruned nodes, max_depth=5\u001b[0m\n",
            "\u001b[34m[5]#011train-error:0.144925#011validation-error:0.145555\u001b[0m\n",
            "\u001b[34m[06:46:21] src/tree/updater_prune.cc:74: tree pruning end, 1 roots, 34 extra nodes, 6 pruned nodes, max_depth=5\u001b[0m\n",
            "\u001b[34m[6]#011train-error:0.144579#011validation-error:0.14402\u001b[0m\n",
            "\u001b[34m[06:46:21] src/tree/updater_prune.cc:74: tree pruning end, 1 roots, 40 extra nodes, 6 pruned nodes, max_depth=5\u001b[0m\n",
            "\u001b[34m[7]#011train-error:0.144157#011validation-error:0.141256\u001b[0m\n",
            "\u001b[34m[06:46:21] src/tree/updater_prune.cc:74: tree pruning end, 1 roots, 36 extra nodes, 6 pruned nodes, max_depth=5\u001b[0m\n",
            "\u001b[34m[8]#011train-error:0.144119#011validation-error:0.142945\u001b[0m\n",
            "\u001b[34m[06:46:21] src/tree/updater_prune.cc:74: tree pruning end, 1 roots, 42 extra nodes, 8 pruned nodes, max_depth=5\u001b[0m\n",
            "\u001b[34m[9]#011train-error:0.142852#011validation-error:0.142024\u001b[0m\n",
            "\u001b[34m[06:46:21] src/tree/updater_prune.cc:74: tree pruning end, 1 roots, 34 extra nodes, 10 pruned nodes, max_depth=5\u001b[0m\n",
            "\u001b[34m[10]#011train-error:0.142314#011validation-error:0.141102\u001b[0m\n",
            "\u001b[34m[06:46:21] src/tree/updater_prune.cc:74: tree pruning end, 1 roots, 34 extra nodes, 10 pruned nodes, max_depth=5\u001b[0m\n",
            "\u001b[34m[11]#011train-error:0.140779#011validation-error:0.140028\u001b[0m\n",
            "\u001b[34m[06:46:21] src/tree/updater_prune.cc:74: tree pruning end, 1 roots, 24 extra nodes, 8 pruned nodes, max_depth=5\u001b[0m\n",
            "\u001b[34m[12]#011train-error:0.141009#011validation-error:0.139567\u001b[0m\n",
            "\u001b[34m[06:46:21] src/tree/updater_prune.cc:74: tree pruning end, 1 roots, 36 extra nodes, 16 pruned nodes, max_depth=5\u001b[0m\n",
            "\u001b[34m[13]#011train-error:0.140395#011validation-error:0.137725\u001b[0m\n",
            "\u001b[34m[06:46:21] src/tree/updater_prune.cc:74: tree pruning end, 1 roots, 20 extra nodes, 12 pruned nodes, max_depth=5\u001b[0m\n",
            "\u001b[34m[14]#011train-error:0.138974#011validation-error:0.137571\u001b[0m\n",
            "\u001b[34m[06:46:21] src/tree/updater_prune.cc:74: tree pruning end, 1 roots, 16 extra nodes, 14 pruned nodes, max_depth=5\u001b[0m\n",
            "\u001b[34m[15]#011train-error:0.138782#011validation-error:0.137571\u001b[0m\n",
            "\u001b[34m[06:46:21] src/tree/updater_prune.cc:74: tree pruning end, 1 roots, 38 extra nodes, 10 pruned nodes, max_depth=5\u001b[0m\n",
            "\u001b[34m[16]#011train-error:0.136748#011validation-error:0.134654\u001b[0m\n",
            "\u001b[34m[06:46:21] src/tree/updater_prune.cc:74: tree pruning end, 1 roots, 18 extra nodes, 10 pruned nodes, max_depth=5\u001b[0m\n",
            "\u001b[34m[17]#011train-error:0.137208#011validation-error:0.134654\u001b[0m\n",
            "\u001b[34m[06:46:21] src/tree/updater_prune.cc:74: tree pruning end, 1 roots, 40 extra nodes, 8 pruned nodes, max_depth=5\u001b[0m\n",
            "\u001b[34m[18]#011train-error:0.135673#011validation-error:0.133118\u001b[0m\n",
            "\u001b[34m[06:46:21] src/tree/updater_prune.cc:74: tree pruning end, 1 roots, 14 extra nodes, 22 pruned nodes, max_depth=5\u001b[0m\n",
            "\u001b[34m[19]#011train-error:0.135442#011validation-error:0.133118\u001b[0m\n",
            "\u001b[34m[06:46:21] src/tree/updater_prune.cc:74: tree pruning end, 1 roots, 32 extra nodes, 4 pruned nodes, max_depth=5\u001b[0m\n",
            "\u001b[34m[20]#011train-error:0.134406#011validation-error:0.133579\u001b[0m\n",
            "\u001b[34m[06:46:21] src/tree/updater_prune.cc:74: tree pruning end, 1 roots, 18 extra nodes, 12 pruned nodes, max_depth=5\u001b[0m\n",
            "\u001b[34m[21]#011train-error:0.133753#011validation-error:0.133579\u001b[0m\n",
            "\u001b[34m[06:46:21] src/tree/updater_prune.cc:74: tree pruning end, 1 roots, 34 extra nodes, 12 pruned nodes, max_depth=5\u001b[0m\n",
            "\u001b[34m[22]#011train-error:0.132985#011validation-error:0.132658\u001b[0m\n",
            "\u001b[34m[06:46:21] src/tree/updater_prune.cc:74: tree pruning end, 1 roots, 20 extra nodes, 8 pruned nodes, max_depth=5\u001b[0m\n",
            "\u001b[34m[23]#011train-error:0.132947#011validation-error:0.131737\u001b[0m\n",
            "\u001b[34m[06:46:21] src/tree/updater_prune.cc:74: tree pruning end, 1 roots, 18 extra nodes, 12 pruned nodes, max_depth=5\u001b[0m\n",
            "\u001b[34m[24]#011train-error:0.133408#011validation-error:0.131429\u001b[0m\n",
            "\u001b[34m[06:46:21] src/tree/updater_prune.cc:74: tree pruning end, 1 roots, 42 extra nodes, 10 pruned nodes, max_depth=5\u001b[0m\n",
            "\u001b[34m[25]#011train-error:0.131757#011validation-error:0.130969\u001b[0m\n",
            "\u001b[34m[06:46:21] src/tree/updater_prune.cc:74: tree pruning end, 1 roots, 16 extra nodes, 4 pruned nodes, max_depth=5\u001b[0m\n",
            "\u001b[34m[26]#011train-error:0.130643#011validation-error:0.129894\u001b[0m\n",
            "\u001b[34m[06:46:21] src/tree/updater_prune.cc:74: tree pruning end, 1 roots, 28 extra nodes, 8 pruned nodes, max_depth=5\u001b[0m\n",
            "\u001b[34m[27]#011train-error:0.130029#011validation-error:0.130662\u001b[0m\n",
            "\u001b[34m[06:46:21] src/tree/updater_prune.cc:74: tree pruning end, 1 roots, 34 extra nodes, 20 pruned nodes, max_depth=5\u001b[0m\n",
            "\u001b[34m[28]#011train-error:0.130336#011validation-error:0.131583\u001b[0m\n",
            "\u001b[34m[06:46:21] src/tree/updater_prune.cc:74: tree pruning end, 1 roots, 22 extra nodes, 4 pruned nodes, max_depth=5\u001b[0m\n",
            "\u001b[34m[29]#011train-error:0.130068#011validation-error:0.131737\u001b[0m\n",
            "\u001b[34m[06:46:21] src/tree/updater_prune.cc:74: tree pruning end, 1 roots, 28 extra nodes, 8 pruned nodes, max_depth=5\u001b[0m\n",
            "\u001b[34m[30]#011train-error:0.129914#011validation-error:0.131276\u001b[0m\n",
            "\u001b[34m[06:46:21] src/tree/updater_prune.cc:74: tree pruning end, 1 roots, 18 extra nodes, 2 pruned nodes, max_depth=5\u001b[0m\n",
            "\u001b[34m[31]#011train-error:0.128916#011validation-error:0.131122\u001b[0m\n",
            "\u001b[34m[06:46:21] src/tree/updater_prune.cc:74: tree pruning end, 1 roots, 14 extra nodes, 8 pruned nodes, max_depth=5\u001b[0m\n",
            "\u001b[34m[32]#011train-error:0.128686#011validation-error:0.130969\u001b[0m\n",
            "\u001b[34m[06:46:21] src/tree/updater_prune.cc:74: tree pruning end, 1 roots, 24 extra nodes, 22 pruned nodes, max_depth=5\u001b[0m\n",
            "\u001b[34m[33]#011train-error:0.128225#011validation-error:0.131276\u001b[0m\n",
            "\u001b[34m[06:46:21] src/tree/updater_prune.cc:74: tree pruning end, 1 roots, 12 extra nodes, 24 pruned nodes, max_depth=5\u001b[0m\n",
            "\u001b[34m[34]#011train-error:0.12857#011validation-error:0.130048\u001b[0m\n",
            "\u001b[34m[06:46:21] src/tree/updater_prune.cc:74: tree pruning end, 1 roots, 12 extra nodes, 4 pruned nodes, max_depth=5\u001b[0m\n",
            "\u001b[34m[35]#011train-error:0.128225#011validation-error:0.129587\u001b[0m\n",
            "\u001b[34m[06:46:21] src/tree/updater_prune.cc:74: tree pruning end, 1 roots, 18 extra nodes, 4 pruned nodes, max_depth=5\u001b[0m\n",
            "\u001b[34m[36]#011train-error:0.127726#011validation-error:0.130815\u001b[0m\n",
            "\u001b[34m[06:46:21] src/tree/updater_prune.cc:74: tree pruning end, 1 roots, 38 extra nodes, 14 pruned nodes, max_depth=5\u001b[0m\n",
            "\u001b[34m[37]#011train-error:0.127111#011validation-error:0.131276\u001b[0m\n",
            "\u001b[34m[06:46:21] src/tree/updater_prune.cc:74: tree pruning end, 1 roots, 18 extra nodes, 12 pruned nodes, max_depth=5\u001b[0m\n",
            "\u001b[34m[38]#011train-error:0.126728#011validation-error:0.130815\u001b[0m\n",
            "\u001b[34m[06:46:21] src/tree/updater_prune.cc:74: tree pruning end, 1 roots, 16 extra nodes, 22 pruned nodes, max_depth=5\u001b[0m\n",
            "\u001b[34m[39]#011train-error:0.126459#011validation-error:0.130508\u001b[0m\n",
            "\u001b[34m[06:46:21] src/tree/updater_prune.cc:74: tree pruning end, 1 roots, 24 extra nodes, 12 pruned nodes, max_depth=5\u001b[0m\n",
            "\u001b[34m[40]#011train-error:0.126228#011validation-error:0.128512\u001b[0m\n",
            "\u001b[34m[06:46:21] src/tree/updater_prune.cc:74: tree pruning end, 1 roots, 38 extra nodes, 12 pruned nodes, max_depth=5\u001b[0m\n",
            "\u001b[34m[41]#011train-error:0.125883#011validation-error:0.127437\u001b[0m\n",
            "\u001b[34m[06:46:21] src/tree/updater_prune.cc:74: tree pruning end, 1 roots, 14 extra nodes, 6 pruned nodes, max_depth=5\u001b[0m\n",
            "\u001b[34m[42]#011train-error:0.125192#011validation-error:0.127745\u001b[0m\n",
            "\u001b[34m[06:46:21] src/tree/updater_prune.cc:74: tree pruning end, 1 roots, 12 extra nodes, 18 pruned nodes, max_depth=5\u001b[0m\n",
            "\u001b[34m[43]#011train-error:0.125#011validation-error:0.127745\u001b[0m\n",
            "\u001b[34m[06:46:21] src/tree/updater_prune.cc:74: tree pruning end, 1 roots, 16 extra nodes, 10 pruned nodes, max_depth=5\u001b[0m\n",
            "\u001b[34m[44]#011train-error:0.125038#011validation-error:0.127591\u001b[0m\n",
            "\u001b[34m[06:46:21] src/tree/updater_prune.cc:74: tree pruning end, 1 roots, 22 extra nodes, 4 pruned nodes, max_depth=5\u001b[0m\n",
            "\u001b[34m[45]#011train-error:0.124654#011validation-error:0.127284\u001b[0m\n",
            "\u001b[34m[06:46:21] src/tree/updater_prune.cc:74: tree pruning end, 1 roots, 14 extra nodes, 2 pruned nodes, max_depth=5\u001b[0m\n",
            "\u001b[34m[46]#011train-error:0.124386#011validation-error:0.12713\u001b[0m\n",
            "\u001b[34m[06:46:22] src/tree/updater_prune.cc:74: tree pruning end, 1 roots, 22 extra nodes, 12 pruned nodes, max_depth=5\u001b[0m\n",
            "\u001b[34m[47]#011train-error:0.12404#011validation-error:0.126516\u001b[0m\n",
            "\u001b[34m[06:46:22] src/tree/updater_prune.cc:74: tree pruning end, 1 roots, 14 extra nodes, 4 pruned nodes, max_depth=5\u001b[0m\n",
            "\u001b[34m[48]#011train-error:0.123733#011validation-error:0.126823\u001b[0m\n",
            "\u001b[34m[06:46:22] src/tree/updater_prune.cc:74: tree pruning end, 1 roots, 20 extra nodes, 18 pruned nodes, max_depth=5\u001b[0m\n",
            "\u001b[34m[49]#011train-error:0.123925#011validation-error:0.126363\u001b[0m\n",
            "\u001b[34m[06:46:22] src/tree/updater_prune.cc:74: tree pruning end, 1 roots, 12 extra nodes, 8 pruned nodes, max_depth=5\u001b[0m\n",
            "\u001b[34m[50]#011train-error:0.123887#011validation-error:0.127437\u001b[0m\n",
            "\u001b[34m[06:46:22] src/tree/updater_prune.cc:74: tree pruning end, 1 roots, 10 extra nodes, 6 pruned nodes, max_depth=5\u001b[0m\n",
            "\u001b[34m[51]#011train-error:0.12381#011validation-error:0.127284\u001b[0m\n",
            "\u001b[34m[06:46:22] src/tree/updater_prune.cc:74: tree pruning end, 1 roots, 24 extra nodes, 8 pruned nodes, max_depth=5\u001b[0m\n",
            "\u001b[34m[52]#011train-error:0.123963#011validation-error:0.127437\u001b[0m\n",
            "\u001b[34m[06:46:22] src/tree/updater_prune.cc:74: tree pruning end, 1 roots, 16 extra nodes, 18 pruned nodes, max_depth=5\u001b[0m\n",
            "\u001b[34m[53]#011train-error:0.124002#011validation-error:0.12713\u001b[0m\n",
            "\u001b[34m[06:46:22] src/tree/updater_prune.cc:74: tree pruning end, 1 roots, 20 extra nodes, 14 pruned nodes, max_depth=5\u001b[0m\n",
            "\u001b[34m[54]#011train-error:0.124079#011validation-error:0.12667\u001b[0m\n",
            "\u001b[34m[06:46:22] src/tree/updater_prune.cc:74: tree pruning end, 1 roots, 22 extra nodes, 10 pruned nodes, max_depth=5\u001b[0m\n",
            "\u001b[34m[55]#011train-error:0.123771#011validation-error:0.12713\u001b[0m\n",
            "\u001b[34m[06:46:22] src/tree/updater_prune.cc:74: tree pruning end, 1 roots, 10 extra nodes, 6 pruned nodes, max_depth=5\u001b[0m\n",
            "\u001b[34m[56]#011train-error:0.123541#011validation-error:0.126823\u001b[0m\n",
            "\u001b[34m[06:46:22] src/tree/updater_prune.cc:74: tree pruning end, 1 roots, 8 extra nodes, 12 pruned nodes, max_depth=4\u001b[0m\n",
            "\u001b[34m[57]#011train-error:0.123503#011validation-error:0.126363\u001b[0m\n",
            "\u001b[34m[06:46:22] src/tree/updater_prune.cc:74: tree pruning end, 1 roots, 6 extra nodes, 20 pruned nodes, max_depth=3\u001b[0m\n",
            "\u001b[34m[58]#011train-error:0.123618#011validation-error:0.126363\u001b[0m\n",
            "\u001b[34m[06:46:22] src/tree/updater_prune.cc:74: tree pruning end, 1 roots, 24 extra nodes, 14 pruned nodes, max_depth=5\u001b[0m\n",
            "\u001b[34m[59]#011train-error:0.123234#011validation-error:0.126209\u001b[0m\n",
            "\u001b[34m[06:46:22] src/tree/updater_prune.cc:74: tree pruning end, 1 roots, 10 extra nodes, 6 pruned nodes, max_depth=4\u001b[0m\n",
            "\u001b[34m[60]#011train-error:0.123234#011validation-error:0.126056\u001b[0m\n",
            "\u001b[34m[06:46:22] src/tree/updater_prune.cc:74: tree pruning end, 1 roots, 6 extra nodes, 32 pruned nodes, max_depth=3\u001b[0m\n",
            "\u001b[34m[61]#011train-error:0.123272#011validation-error:0.126056\u001b[0m\n",
            "\u001b[34m[06:46:22] src/tree/updater_prune.cc:74: tree pruning end, 1 roots, 14 extra nodes, 26 pruned nodes, max_depth=5\u001b[0m\n",
            "\u001b[34m[62]#011train-error:0.12189#011validation-error:0.126823\u001b[0m\n",
            "\u001b[34m[06:46:22] src/tree/updater_prune.cc:74: tree pruning end, 1 roots, 4 extra nodes, 24 pruned nodes, max_depth=2\u001b[0m\n",
            "\u001b[34m[63]#011train-error:0.122006#011validation-error:0.126823\u001b[0m\n",
            "\u001b[34m[06:46:22] src/tree/updater_prune.cc:74: tree pruning end, 1 roots, 12 extra nodes, 26 pruned nodes, max_depth=4\u001b[0m\n",
            "\u001b[34m[64]#011train-error:0.122351#011validation-error:0.126823\u001b[0m\n",
            "\u001b[34m[06:46:22] src/tree/updater_prune.cc:74: tree pruning end, 1 roots, 10 extra nodes, 8 pruned nodes, max_depth=5\u001b[0m\n",
            "\u001b[34m[65]#011train-error:0.122274#011validation-error:0.12667\u001b[0m\n",
            "\u001b[34m[06:46:22] src/tree/updater_prune.cc:74: tree pruning end, 1 roots, 12 extra nodes, 18 pruned nodes, max_depth=4\u001b[0m\n",
            "\u001b[34m[66]#011train-error:0.122197#011validation-error:0.126977\u001b[0m\n",
            "\u001b[34m[06:46:22] src/tree/updater_prune.cc:74: tree pruning end, 1 roots, 12 extra nodes, 4 pruned nodes, max_depth=5\u001b[0m\n",
            "\u001b[34m[67]#011train-error:0.12189#011validation-error:0.12667\u001b[0m\n",
            "\u001b[34m[06:46:22] src/tree/updater_prune.cc:74: tree pruning end, 1 roots, 8 extra nodes, 24 pruned nodes, max_depth=4\u001b[0m\n",
            "\u001b[34m[68]#011train-error:0.122236#011validation-error:0.126516\u001b[0m\n",
            "\u001b[34m[06:46:22] src/tree/updater_prune.cc:74: tree pruning end, 1 roots, 14 extra nodes, 20 pruned nodes, max_depth=5\u001b[0m\n",
            "\u001b[34m[69]#011train-error:0.122351#011validation-error:0.126977\u001b[0m\n",
            "\u001b[34m[06:46:22] src/tree/updater_prune.cc:74: tree pruning end, 1 roots, 12 extra nodes, 32 pruned nodes, max_depth=4\u001b[0m\n",
            "\u001b[34m[70]#011train-error:0.121545#011validation-error:0.126977\u001b[0m\n",
            "\u001b[34m[06:46:22] src/tree/updater_prune.cc:74: tree pruning end, 1 roots, 14 extra nodes, 24 pruned nodes, max_depth=5\u001b[0m\n",
            "\u001b[34m[71]#011train-error:0.121583#011validation-error:0.126977\u001b[0m\n",
            "\u001b[34m[06:46:22] src/tree/updater_prune.cc:74: tree pruning end, 1 roots, 12 extra nodes, 18 pruned nodes, max_depth=4\u001b[0m\n",
            "\u001b[34m[72]#011train-error:0.121622#011validation-error:0.12667\u001b[0m\n",
            "\u001b[34m[06:46:22] src/tree/updater_prune.cc:74: tree pruning end, 1 roots, 18 extra nodes, 26 pruned nodes, max_depth=5\u001b[0m\n",
            "\u001b[34m[73]#011train-error:0.121775#011validation-error:0.126823\u001b[0m\n",
            "\u001b[34m[06:46:22] src/tree/updater_prune.cc:74: tree pruning end, 1 roots, 4 extra nodes, 38 pruned nodes, max_depth=2\u001b[0m\n",
            "\u001b[34m[74]#011train-error:0.121622#011validation-error:0.12667\u001b[0m\n",
            "\u001b[34m[06:46:22] src/tree/updater_prune.cc:74: tree pruning end, 1 roots, 18 extra nodes, 28 pruned nodes, max_depth=5\u001b[0m\n",
            "\u001b[34m[75]#011train-error:0.121622#011validation-error:0.126823\u001b[0m\n",
            "\u001b[34m[06:46:22] src/tree/updater_prune.cc:74: tree pruning end, 1 roots, 10 extra nodes, 12 pruned nodes, max_depth=5\u001b[0m\n",
            "\u001b[34m[76]#011train-error:0.12143#011validation-error:0.12667\u001b[0m\n",
            "\u001b[34m[06:46:22] src/tree/updater_prune.cc:74: tree pruning end, 1 roots, 10 extra nodes, 18 pruned nodes, max_depth=4\u001b[0m\n",
            "\u001b[34m[77]#011train-error:0.12143#011validation-error:0.126363\u001b[0m\n",
            "\u001b[34m[06:46:22] src/tree/updater_prune.cc:74: tree pruning end, 1 roots, 8 extra nodes, 6 pruned nodes, max_depth=3\u001b[0m\n",
            "\u001b[34m[78]#011train-error:0.121314#011validation-error:0.126516\u001b[0m\n",
            "\u001b[34m[06:46:22] src/tree/updater_prune.cc:74: tree pruning end, 1 roots, 20 extra nodes, 22 pruned nodes, max_depth=5\u001b[0m\n",
            "\u001b[34m[79]#011train-error:0.120969#011validation-error:0.126823\u001b[0m\n",
            "\u001b[34m[06:46:22] src/tree/updater_prune.cc:74: tree pruning end, 1 roots, 20 extra nodes, 30 pruned nodes, max_depth=5\u001b[0m\n",
            "\u001b[34m[80]#011train-error:0.120931#011validation-error:0.126056\u001b[0m\n",
            "\u001b[34m[06:46:22] src/tree/updater_prune.cc:74: tree pruning end, 1 roots, 18 extra nodes, 32 pruned nodes, max_depth=5\u001b[0m\n",
            "\u001b[34m[81]#011train-error:0.121084#011validation-error:0.125902\u001b[0m\n",
            "\u001b[34m[06:46:22] src/tree/updater_prune.cc:74: tree pruning end, 1 roots, 10 extra nodes, 16 pruned nodes, max_depth=3\u001b[0m\n",
            "\u001b[34m[82]#011train-error:0.120969#011validation-error:0.126209\u001b[0m\n",
            "\u001b[34m[06:46:22] src/tree/updater_prune.cc:74: tree pruning end, 1 roots, 0 extra nodes, 22 pruned nodes, max_depth=0\u001b[0m\n",
            "\u001b[34m[83]#011train-error:0.121123#011validation-error:0.125749\u001b[0m\n",
            "\u001b[34m[06:46:22] src/tree/updater_prune.cc:74: tree pruning end, 1 roots, 20 extra nodes, 10 pruned nodes, max_depth=5\u001b[0m\n",
            "\u001b[34m[84]#011train-error:0.121046#011validation-error:0.126363\u001b[0m\n",
            "\u001b[34m[06:46:22] src/tree/updater_prune.cc:74: tree pruning end, 1 roots, 18 extra nodes, 18 pruned nodes, max_depth=5\u001b[0m\n",
            "\u001b[34m[85]#011train-error:0.121545#011validation-error:0.125595\u001b[0m\n",
            "\u001b[34m[06:46:22] src/tree/updater_prune.cc:74: tree pruning end, 1 roots, 4 extra nodes, 14 pruned nodes, max_depth=2\u001b[0m\n",
            "\u001b[34m[86]#011train-error:0.121545#011validation-error:0.125902\u001b[0m\n",
            "\u001b[34m[06:46:22] src/tree/updater_prune.cc:74: tree pruning end, 1 roots, 10 extra nodes, 36 pruned nodes, max_depth=4\u001b[0m\n",
            "\u001b[34m[87]#011train-error:0.121698#011validation-error:0.125749\u001b[0m\n",
            "\u001b[34m[88]#011train-error:0.121506#011validation-error:0.125595\u001b[0m\n",
            "\u001b[34m[06:46:22] src/tree/updater_prune.cc:74: tree pruning end, 1 roots, 6 extra nodes, 18 pruned nodes, max_depth=3\u001b[0m\n",
            "\u001b[34m[06:46:22] src/tree/updater_prune.cc:74: tree pruning end, 1 roots, 12 extra nodes, 22 pruned nodes, max_depth=5\u001b[0m\n",
            "\u001b[34m[89]#011train-error:0.121314#011validation-error:0.125749\u001b[0m\n",
            "\u001b[34m[06:46:22] src/tree/updater_prune.cc:74: tree pruning end, 1 roots, 0 extra nodes, 26 pruned nodes, max_depth=0\u001b[0m\n",
            "\u001b[34m[90]#011train-error:0.121314#011validation-error:0.125749\u001b[0m\n",
            "\u001b[34m[06:46:22] src/tree/updater_prune.cc:74: tree pruning end, 1 roots, 10 extra nodes, 8 pruned nodes, max_depth=5\u001b[0m\n",
            "\u001b[34m[91]#011train-error:0.121084#011validation-error:0.126209\u001b[0m\n",
            "\u001b[34m[06:46:22] src/tree/updater_prune.cc:74: tree pruning end, 1 roots, 8 extra nodes, 26 pruned nodes, max_depth=4\u001b[0m\n",
            "\u001b[34m[92]#011train-error:0.120777#011validation-error:0.12667\u001b[0m\n",
            "\u001b[34m[06:46:22] src/tree/updater_prune.cc:74: tree pruning end, 1 roots, 20 extra nodes, 18 pruned nodes, max_depth=5\u001b[0m\n",
            "\u001b[34m[93]#011train-error:0.121007#011validation-error:0.126823\u001b[0m\n",
            "\u001b[34m[06:46:22] src/tree/updater_prune.cc:74: tree pruning end, 1 roots, 12 extra nodes, 16 pruned nodes, max_depth=5\u001b[0m\n",
            "\u001b[34m[94]#011train-error:0.121276#011validation-error:0.126823\u001b[0m\n",
            "\u001b[34m[06:46:22] src/tree/updater_prune.cc:74: tree pruning end, 1 roots, 12 extra nodes, 12 pruned nodes, max_depth=5\u001b[0m\n",
            "\u001b[34m[95]#011train-error:0.121199#011validation-error:0.126516\u001b[0m\n",
            "\u001b[34m[06:46:22] src/tree/updater_prune.cc:74: tree pruning end, 1 roots, 14 extra nodes, 26 pruned nodes, max_depth=4\u001b[0m\n",
            "\u001b[34m[96]#011train-error:0.121046#011validation-error:0.12713\u001b[0m\n",
            "\u001b[34m[06:46:22] src/tree/updater_prune.cc:74: tree pruning end, 1 roots, 20 extra nodes, 20 pruned nodes, max_depth=5\u001b[0m\n",
            "\u001b[34m[97]#011train-error:0.120854#011validation-error:0.12713\u001b[0m\n",
            "\u001b[34m[06:46:22] src/tree/updater_prune.cc:74: tree pruning end, 1 roots, 0 extra nodes, 30 pruned nodes, max_depth=0\u001b[0m\n",
            "\u001b[34m[98]#011train-error:0.120815#011validation-error:0.12713\u001b[0m\n",
            "\u001b[34m[06:46:22] src/tree/updater_prune.cc:74: tree pruning end, 1 roots, 16 extra nodes, 22 pruned nodes, max_depth=5\u001b[0m\n",
            "\u001b[34m[99]#011train-error:0.1207#011validation-error:0.126977\u001b[0m\n",
            "\n",
            "2021-12-08 06:46:53 Completed - Training job completed\n",
            "ProfilerReport-1638945746: NoIssuesFound\n",
            "Training seconds: 64\n",
            "Billable seconds: 28\n",
            "Managed Spot Training savings: 56.2%\n"
          ]
        }
      ],
      "source": [
        "# Train the Model\n",
        "xgb_model.fit({'train': s3_input_train,'validation': s3_input_test})"
      ]
    },
    {
      "cell_type": "code",
      "execution_count": null,
      "id": "821a8a96",
      "metadata": {
        "id": "821a8a96",
        "outputId": "b6f430e5-0e27-40a2-c50f-37569995049f"
      },
      "outputs": [
        {
          "name": "stdout",
          "output_type": "stream",
          "text": [
            "2021-12-08 06:39:16     133135 sagemaker-xgboost/output/xgboost-2021-12-08-06-35-28-485/profiler-output/system/incremental/2021120806/1638945480.algo-1.json\r\n",
            "2021-12-08 06:39:16      60375 sagemaker-xgboost/output/xgboost-2021-12-08-06-35-28-485/profiler-output/system/incremental/2021120806/1638945540.algo-1.json\r\n",
            "2021-12-08 06:46:32          0 sagemaker-xgboost/output/xgboost-2021-12-08-06-42-26-237/debug-output/training_job_end.ts\r\n",
            "2021-12-08 06:46:28      60484 sagemaker-xgboost/output/xgboost-2021-12-08-06-42-26-237/output/model.tar.gz\r\n",
            "2021-12-08 06:46:32          0 sagemaker-xgboost/output/xgboost-2021-12-08-06-42-26-237/profiler-output/framework/training_job_end.ts\r\n",
            "2021-12-08 06:46:26     119059 sagemaker-xgboost/output/xgboost-2021-12-08-06-42-26-237/profiler-output/system/incremental/2021120806/1638945900.algo-1.json\r\n",
            "2021-12-08 06:46:26     100246 sagemaker-xgboost/output/xgboost-2021-12-08-06-42-26-237/profiler-output/system/incremental/2021120806/1638945960.algo-1.json\r\n",
            "2021-12-08 06:46:32          0 sagemaker-xgboost/output/xgboost-2021-12-08-06-42-26-237/profiler-output/system/training_job_end.ts\r\n",
            "2021-12-08 06:46:45     329709 sagemaker-xgboost/output/xgboost-2021-12-08-06-42-26-237/rule-output/ProfilerReport-1638945746/profiler-output/profiler-report.html\r\n",
            "2021-12-08 06:46:45     171077 sagemaker-xgboost/output/xgboost-2021-12-08-06-42-26-237/rule-output/ProfilerReport-1638945746/profiler-output/profiler-report.ipynb\r\n",
            "2021-12-08 06:46:42        190 sagemaker-xgboost/output/xgboost-2021-12-08-06-42-26-237/rule-output/ProfilerReport-1638945746/profiler-output/profiler-reports/BatchSize.json\r\n",
            "2021-12-08 06:46:42        198 sagemaker-xgboost/output/xgboost-2021-12-08-06-42-26-237/rule-output/ProfilerReport-1638945746/profiler-output/profiler-reports/CPUBottleneck.json\r\n",
            "2021-12-08 06:46:42        126 sagemaker-xgboost/output/xgboost-2021-12-08-06-42-26-237/rule-output/ProfilerReport-1638945746/profiler-output/profiler-reports/Dataloader.json\r\n",
            "2021-12-08 06:46:42        127 sagemaker-xgboost/output/xgboost-2021-12-08-06-42-26-237/rule-output/ProfilerReport-1638945746/profiler-output/profiler-reports/GPUMemoryIncrease.json\r\n",
            "2021-12-08 06:46:42        197 sagemaker-xgboost/output/xgboost-2021-12-08-06-42-26-237/rule-output/ProfilerReport-1638945746/profiler-output/profiler-reports/IOBottleneck.json\r\n",
            "2021-12-08 06:46:42        119 sagemaker-xgboost/output/xgboost-2021-12-08-06-42-26-237/rule-output/ProfilerReport-1638945746/profiler-output/profiler-reports/LoadBalancing.json\r\n",
            "2021-12-08 06:46:42        151 sagemaker-xgboost/output/xgboost-2021-12-08-06-42-26-237/rule-output/ProfilerReport-1638945746/profiler-output/profiler-reports/LowGPUUtilization.json\r\n",
            "2021-12-08 06:46:42        179 sagemaker-xgboost/output/xgboost-2021-12-08-06-42-26-237/rule-output/ProfilerReport-1638945746/profiler-output/profiler-reports/MaxInitializationTime.json\r\n",
            "2021-12-08 06:46:42        133 sagemaker-xgboost/output/xgboost-2021-12-08-06-42-26-237/rule-output/ProfilerReport-1638945746/profiler-output/profiler-reports/OverallFrameworkMetrics.json\r\n",
            "2021-12-08 06:46:42        464 sagemaker-xgboost/output/xgboost-2021-12-08-06-42-26-237/rule-output/ProfilerReport-1638945746/profiler-output/profiler-reports/OverallSystemUsage.json\r\n",
            "2021-12-08 06:46:42        156 sagemaker-xgboost/output/xgboost-2021-12-08-06-42-26-237/rule-output/ProfilerReport-1638945746/profiler-output/profiler-reports/StepOutlier.json\r\n"
          ]
        }
      ],
      "source": [
        "#check output model exist in S3 bucket\n",
        "! aws s3 ls {output_path} --recursive"
      ]
    },
    {
      "cell_type": "code",
      "execution_count": null,
      "id": "d7faf3c8",
      "metadata": {
        "id": "d7faf3c8",
        "outputId": "29f2333b-6abd-485d-a086-f69adcbcb287"
      },
      "outputs": [
        {
          "name": "stdout",
          "output_type": "stream",
          "text": [
            "download: s3://adault-income-data/sagemaker-xgboost/output/xgboost-2021-12-08-06-35-28-485/profiler-output/system/incremental/2021120806/1638945540.algo-1.json to xgboost-2021-12-08-06-35-28-485/profiler-output/system/incremental/2021120806/1638945540.algo-1.json\n",
            "download: s3://adault-income-data/sagemaker-xgboost/output/xgboost-2021-12-08-06-42-26-237/debug-output/training_job_end.ts to xgboost-2021-12-08-06-42-26-237/debug-output/training_job_end.ts\n",
            "download: s3://adault-income-data/sagemaker-xgboost/output/xgboost-2021-12-08-06-42-26-237/profiler-output/framework/training_job_end.ts to xgboost-2021-12-08-06-42-26-237/profiler-output/framework/training_job_end.ts\n",
            "download: s3://adault-income-data/sagemaker-xgboost/output/xgboost-2021-12-08-06-42-26-237/rule-output/ProfilerReport-1638945746/profiler-output/profiler-reports/CPUBottleneck.json to xgboost-2021-12-08-06-42-26-237/rule-output/ProfilerReport-1638945746/profiler-output/profiler-reports/CPUBottleneck.json\n",
            "download: s3://adault-income-data/sagemaker-xgboost/output/xgboost-2021-12-08-06-42-26-237/output/model.tar.gz to xgboost-2021-12-08-06-42-26-237/output/model.tar.gz\n",
            "download: s3://adault-income-data/sagemaker-xgboost/output/xgboost-2021-12-08-06-35-28-485/profiler-output/system/incremental/2021120806/1638945480.algo-1.json to xgboost-2021-12-08-06-35-28-485/profiler-output/system/incremental/2021120806/1638945480.algo-1.json\n",
            "download: s3://adault-income-data/sagemaker-xgboost/output/xgboost-2021-12-08-06-42-26-237/profiler-output/system/training_job_end.ts to xgboost-2021-12-08-06-42-26-237/profiler-output/system/training_job_end.ts\n",
            "download: s3://adault-income-data/sagemaker-xgboost/output/xgboost-2021-12-08-06-42-26-237/rule-output/ProfilerReport-1638945746/profiler-output/profiler-reports/Dataloader.json to xgboost-2021-12-08-06-42-26-237/rule-output/ProfilerReport-1638945746/profiler-output/profiler-reports/Dataloader.json\n",
            "download: s3://adault-income-data/sagemaker-xgboost/output/xgboost-2021-12-08-06-42-26-237/rule-output/ProfilerReport-1638945746/profiler-output/profiler-report.ipynb to xgboost-2021-12-08-06-42-26-237/rule-output/ProfilerReport-1638945746/profiler-output/profiler-report.ipynb\n",
            "download: s3://adault-income-data/sagemaker-xgboost/output/xgboost-2021-12-08-06-42-26-237/rule-output/ProfilerReport-1638945746/profiler-output/profiler-reports/IOBottleneck.json to xgboost-2021-12-08-06-42-26-237/rule-output/ProfilerReport-1638945746/profiler-output/profiler-reports/IOBottleneck.json\n",
            "download: s3://adault-income-data/sagemaker-xgboost/output/xgboost-2021-12-08-06-42-26-237/profiler-output/system/incremental/2021120806/1638945960.algo-1.json to xgboost-2021-12-08-06-42-26-237/profiler-output/system/incremental/2021120806/1638945960.algo-1.json\n",
            "download: s3://adault-income-data/sagemaker-xgboost/output/xgboost-2021-12-08-06-42-26-237/rule-output/ProfilerReport-1638945746/profiler-output/profiler-reports/GPUMemoryIncrease.json to xgboost-2021-12-08-06-42-26-237/rule-output/ProfilerReport-1638945746/profiler-output/profiler-reports/GPUMemoryIncrease.json\n",
            "download: s3://adault-income-data/sagemaker-xgboost/output/xgboost-2021-12-08-06-42-26-237/profiler-output/system/incremental/2021120806/1638945900.algo-1.json to xgboost-2021-12-08-06-42-26-237/profiler-output/system/incremental/2021120806/1638945900.algo-1.json\n",
            "download: s3://adault-income-data/sagemaker-xgboost/output/xgboost-2021-12-08-06-42-26-237/rule-output/ProfilerReport-1638945746/profiler-output/profiler-reports/MaxInitializationTime.json to xgboost-2021-12-08-06-42-26-237/rule-output/ProfilerReport-1638945746/profiler-output/profiler-reports/MaxInitializationTime.json\n",
            "download: s3://adault-income-data/sagemaker-xgboost/output/xgboost-2021-12-08-06-42-26-237/rule-output/ProfilerReport-1638945746/profiler-output/profiler-reports/StepOutlier.json to xgboost-2021-12-08-06-42-26-237/rule-output/ProfilerReport-1638945746/profiler-output/profiler-reports/StepOutlier.json\n",
            "download: s3://adault-income-data/sagemaker-xgboost/output/xgboost-2021-12-08-06-42-26-237/rule-output/ProfilerReport-1638945746/profiler-output/profiler-reports/OverallFrameworkMetrics.json to xgboost-2021-12-08-06-42-26-237/rule-output/ProfilerReport-1638945746/profiler-output/profiler-reports/OverallFrameworkMetrics.json\n",
            "download: s3://adault-income-data/sagemaker-xgboost/output/xgboost-2021-12-08-06-42-26-237/rule-output/ProfilerReport-1638945746/profiler-output/profiler-reports/OverallSystemUsage.json to xgboost-2021-12-08-06-42-26-237/rule-output/ProfilerReport-1638945746/profiler-output/profiler-reports/OverallSystemUsage.json\n",
            "download: s3://adault-income-data/sagemaker-xgboost/output/xgboost-2021-12-08-06-42-26-237/rule-output/ProfilerReport-1638945746/profiler-output/profiler-reports/LoadBalancing.json to xgboost-2021-12-08-06-42-26-237/rule-output/ProfilerReport-1638945746/profiler-output/profiler-reports/LoadBalancing.json\n",
            "download: s3://adault-income-data/sagemaker-xgboost/output/xgboost-2021-12-08-06-42-26-237/rule-output/ProfilerReport-1638945746/profiler-output/profiler-reports/BatchSize.json to xgboost-2021-12-08-06-42-26-237/rule-output/ProfilerReport-1638945746/profiler-output/profiler-reports/BatchSize.json\n",
            "download: s3://adault-income-data/sagemaker-xgboost/output/xgboost-2021-12-08-06-42-26-237/rule-output/ProfilerReport-1638945746/profiler-output/profiler-report.html to xgboost-2021-12-08-06-42-26-237/rule-output/ProfilerReport-1638945746/profiler-output/profiler-report.html\n",
            "download: s3://adault-income-data/sagemaker-xgboost/output/xgboost-2021-12-08-06-42-26-237/rule-output/ProfilerReport-1638945746/profiler-output/profiler-reports/LowGPUUtilization.json to xgboost-2021-12-08-06-42-26-237/rule-output/ProfilerReport-1638945746/profiler-output/profiler-reports/LowGPUUtilization.json\n"
          ]
        }
      ],
      "source": [
        "#copy training and profiler report to current workspace\n",
        "! aws s3 cp {output_path} ./ --recursive"
      ]
    },
    {
      "cell_type": "code",
      "execution_count": null,
      "id": "b95e524e",
      "metadata": {
        "id": "b95e524e",
        "outputId": "a934d037-15f2-425f-abdd-b9e5c5e1b270"
      },
      "outputs": [
        {
          "data": {
            "text/plain": [
              "'Click the below link to view the XGBoost Training Report'"
            ]
          },
          "metadata": {},
          "output_type": "display_data"
        },
        {
          "data": {
            "text/html": [
              "Path (<tt>CreateXGBoostReport/xgboost_report.html</tt>) doesn't exist. It may still be in the process of being generated, or you may have the incorrect path."
            ],
            "text/plain": [
              "/home/ec2-user/SageMaker/CreateXGBoostReport/xgboost_report.html"
            ]
          },
          "metadata": {},
          "output_type": "display_data"
        }
      ],
      "source": [
        "# link to view training report\n",
        "from IPython.display import FileLink, FileLinks\n",
        "display(\"Click the below link to view the XGBoost Training Report\", FileLink(\"CreateXGBoostReport/xgboost_report.html\"))"
      ]
    },
    {
      "cell_type": "code",
      "execution_count": null,
      "id": "a55cd30c",
      "metadata": {
        "id": "a55cd30c",
        "outputId": "92006c15-44b8-4b1b-fdab-d2aff5af1fe2"
      },
      "outputs": [
        {
          "data": {
            "text/plain": [
              "'Click the below link to view the profiler Report'"
            ]
          },
          "metadata": {},
          "output_type": "display_data"
        },
        {
          "data": {
            "text/html": [
              "Path (<tt>ProfilerReport-1638945746/profiler-output/profiler_report.html</tt>) doesn't exist. It may still be in the process of being generated, or you may have the incorrect path."
            ],
            "text/plain": [
              "/home/ec2-user/SageMaker/ProfilerReport-1638945746/profiler-output/profiler_report.html"
            ]
          },
          "metadata": {},
          "output_type": "display_data"
        }
      ],
      "source": [
        "# link to view the profiler report\n",
        "profiler_report_name = [rule[\"RuleConfigurationName\"]\n",
        "                        for rule in xgb_model.latest_training_job.rule_job_summary()\n",
        "                        if \"Profiler\" in rule[\"RuleConfigurationName\"]][0]\n",
        "profiler_report_name\n",
        "display(\"Click the below link to view the profiler Report\", FileLink(profiler_report_name+\"/profiler-output/profiler_report.html\"))"
      ]
    },
    {
      "cell_type": "code",
      "execution_count": null,
      "id": "afc910b2",
      "metadata": {
        "id": "afc910b2"
      },
      "outputs": [],
      "source": [
        ""
      ]
    },
    {
      "cell_type": "code",
      "execution_count": null,
      "id": "8bbbbf42",
      "metadata": {
        "id": "8bbbbf42",
        "outputId": "48ac2b82-102f-4f1d-94e3-b274545c77c1"
      },
      "outputs": [
        {
          "data": {
            "text/plain": [
              "'s3://adault-income-data/sagemaker-xgboost/output'"
            ]
          },
          "execution_count": 60,
          "metadata": {},
          "output_type": "execute_result"
        }
      ],
      "source": [
        "xgb_model.output_path"
      ]
    },
    {
      "cell_type": "code",
      "execution_count": null,
      "id": "81757857",
      "metadata": {
        "id": "81757857",
        "outputId": "809c1b38-9212-4a0c-bcab-a8cb377c635a"
      },
      "outputs": [
        {
          "data": {
            "text/plain": [
              "'xgboost-2021-12-08-06-42-26-237'"
            ]
          },
          "execution_count": 61,
          "metadata": {},
          "output_type": "execute_result"
        }
      ],
      "source": [
        "xgb_model.latest_training_job.job_name"
      ]
    },
    {
      "cell_type": "code",
      "execution_count": null,
      "id": "8f9d7c92",
      "metadata": {
        "id": "8f9d7c92"
      },
      "outputs": [],
      "source": [
        "rule_output_path = xgb_model.output_path + xgb_model.latest_training_job.job_name + \"/rule-output\""
      ]
    },
    {
      "cell_type": "code",
      "execution_count": null,
      "id": "78d388cb",
      "metadata": {
        "id": "78d388cb"
      },
      "outputs": [],
      "source": [
        "! aws s3 ls {rule_output_path} --recursive"
      ]
    },
    {
      "cell_type": "code",
      "execution_count": null,
      "id": "e04d5766",
      "metadata": {
        "id": "e04d5766"
      },
      "outputs": [],
      "source": [
        "! aws s3 cp {rule_output_path} ./ --recursive"
      ]
    },
    {
      "cell_type": "code",
      "execution_count": null,
      "id": "a534f27c",
      "metadata": {
        "id": "a534f27c",
        "outputId": "8ae3424c-14a5-451e-89b9-2f72ab83bb1f"
      },
      "outputs": [
        {
          "name": "stdout",
          "output_type": "stream",
          "text": [
            "/home/ec2-user/SageMaker\r\n"
          ]
        }
      ],
      "source": [
        "!pwd"
      ]
    },
    {
      "cell_type": "code",
      "execution_count": null,
      "id": "9e001cb6",
      "metadata": {
        "id": "9e001cb6"
      },
      "outputs": [],
      "source": [
        ""
      ]
    },
    {
      "cell_type": "code",
      "execution_count": null,
      "id": "df695982",
      "metadata": {
        "id": "df695982",
        "outputId": "1bfd7bd1-5101-4c9a-8526-5af81e8ac240"
      },
      "outputs": [
        {
          "data": {
            "text/plain": [
              "'s3://adault-income-data/sagemaker-xgboost/output/xgboost-2021-12-08-06-42-26-237/output/model.tar.gz'"
            ]
          },
          "execution_count": 70,
          "metadata": {},
          "output_type": "execute_result"
        }
      ],
      "source": [
        "xgb_model.model_data"
      ]
    },
    {
      "cell_type": "markdown",
      "id": "f264bcfe",
      "metadata": {
        "id": "f264bcfe"
      },
      "source": [
        "## Deploy Machine Learning Model As Endpoints"
      ]
    },
    {
      "cell_type": "code",
      "execution_count": null,
      "id": "57a65c3f",
      "metadata": {
        "id": "57a65c3f",
        "outputId": "f25612be-49fd-43af-a03a-6ba2e5f679e3"
      },
      "outputs": [
        {
          "name": "stdout",
          "output_type": "stream",
          "text": [
            "-----------!"
          ]
        }
      ],
      "source": [
        "#Create a EC2 instance for model validation\n",
        "from sagemaker.serializers import CSVSerializer\n",
        "xgb_predictor=xgb_model.deploy(\n",
        "    initial_instance_count=1,\n",
        "    instance_type='ml.t2.medium',\n",
        "    serializer=CSVSerializer()\n",
        ")"
      ]
    },
    {
      "cell_type": "code",
      "execution_count": null,
      "id": "6a9260f5",
      "metadata": {
        "id": "6a9260f5",
        "outputId": "ce9c6bfb-494b-4fa8-b44f-e0b97aab4c30"
      },
      "outputs": [
        {
          "data": {
            "text/plain": [
              "'xgboost-2021-12-08-07-25-13-343'"
            ]
          },
          "execution_count": 73,
          "metadata": {},
          "output_type": "execute_result"
        }
      ],
      "source": [
        "xgb_predictor.endpoint_name"
      ]
    },
    {
      "cell_type": "markdown",
      "id": "9e95673d",
      "metadata": {
        "id": "9e95673d"
      },
      "source": [
        "## Evaluate the Model"
      ]
    },
    {
      "cell_type": "code",
      "execution_count": null,
      "id": "fe6cd66f",
      "metadata": {
        "id": "fe6cd66f"
      },
      "outputs": [],
      "source": [
        "#Evaluate the model with batches of data (here we choose 1000 data per batch)\n",
        "\n",
        "def predict(data, rows=1000):\n",
        "    split_array = np.array_split(data, int(data.shape[0] / float(rows) + 1))\n",
        "    predictions = ''\n",
        "    for array in split_array:\n",
        "        predictions = ','.join([predictions, xgb_predictor.predict(array).decode('utf-8')])\n",
        "    return np.fromstring(predictions[1:], sep=',')"
      ]
    },
    {
      "cell_type": "code",
      "execution_count": null,
      "id": "ccb3cf87",
      "metadata": {
        "id": "ccb3cf87"
      },
      "outputs": [],
      "source": [
        "predictions=predict(test.to_numpy()[:,1:])"
      ]
    },
    {
      "cell_type": "code",
      "execution_count": null,
      "id": "a183eaa7",
      "metadata": {
        "id": "a183eaa7",
        "outputId": "3b274f3a-c123-410b-d893-f280b6279ce6"
      },
      "outputs": [
        {
          "name": "stdout",
          "output_type": "stream",
          "text": [
            "[[4678  348]\n",
            " [ 479 1008]]\n",
            "              precision    recall  f1-score   support\n",
            "\n",
            "           0       0.91      0.93      0.92      5026\n",
            "           1       0.74      0.68      0.71      1487\n",
            "\n",
            "    accuracy                           0.87      6513\n",
            "   macro avg       0.83      0.80      0.81      6513\n",
            "weighted avg       0.87      0.87      0.87      6513\n",
            "\n"
          ]
        }
      ],
      "source": [
        "#confusion_matrix and classification_report, choose default cutoff=0.5\n",
        "\n",
        "cutoff=0.5\n",
        "print(sklearn.metrics.confusion_matrix(test.iloc[:, 0], np.where(predictions > cutoff, 1,0)))\n",
        "print(sklearn.metrics.classification_report(test.iloc[:, 0], np.where(predictions > cutoff, 1,0)))"
      ]
    },
    {
      "cell_type": "code",
      "execution_count": null,
      "id": "8b00f7b2",
      "metadata": {
        "id": "8b00f7b2",
        "outputId": "c77b10bc-dc23-4f06-9cfd-ccf607c7df17"
      },
      "outputs": [
        {
          "data": {
            "image/png": "[encoded data removed]",
            "text/plain": [
              "<Figure size 576x360 with 1 Axes>"
            ]
          },
          "metadata": {
            "needs_background": "light"
          },
          "output_type": "display_data"
        }
      ],
      "source": [
        "#Plot Log loss vs Cutoff, and find exact Cutoff\n",
        "\n",
        "cutoff = np.arange(0.01, 1, 0.01)\n",
        "log_loss = []\n",
        "for c in cutoff:\n",
        "    log_loss.append(\n",
        "        sklearn.metrics.log_loss(test.iloc[:,0], np.where(predictions > c, 1, 0))\n",
        "    )\n",
        "\n",
        "plt.figure(figsize=(8,5))\n",
        "plt.plot(cutoff,log_loss)\n",
        "plt.xlabel(\"Cutoff\")\n",
        "plt.ylabel(\"Log loss\")\n",
        "plt.show()"
      ]
    },
    {
      "cell_type": "code",
      "execution_count": null,
      "id": "e71f1cd2",
      "metadata": {
        "id": "e71f1cd2"
      },
      "outputs": [],
      "source": [
        "print('Log loss is minimized at a cutoff of', cutoff[np.argmin(log_loss)],\n",
        "    ', and the log loss value at the minimum is', np.min(log_loss))"
      ]
    },
    {
      "cell_type": "markdown",
      "source": [
        "Clean up"
      ],
      "metadata": {
        "id": "JdzddJHppe43"
      },
      "id": "JdzddJHppe43"
    },
    {
      "cell_type": "code",
      "source": [
        "# Delete endpoint\n",
        "xgb_predictor.delete_endpoint(delete_endpoint_config=True)"
      ],
      "metadata": {
        "id": "AIBQf1HBpk4m"
      },
      "id": "AIBQf1HBpk4m",
      "execution_count": null,
      "outputs": []
    },
    {
      "cell_type": "code",
      "source": [
        "#Delete training artifacts and S3 bucket\n",
        "bucket_to_delete = boto3.resource('s3').Bucket(bucket_name)\n",
        "bucket_to_delete.objects.all().delete()"
      ],
      "metadata": {
        "id": "iwOyu4pnplN2"
      },
      "id": "iwOyu4pnplN2",
      "execution_count": null,
      "outputs": []
    },
    {
      "cell_type": "markdown",
      "source": [
        "Finally, Stop and delete SageMaker Notebook instance."
      ],
      "metadata": {
        "id": "LF7w30bZp-V3"
      },
      "id": "LF7w30bZp-V3"
    }
  ],
  "metadata": {
    "kernelspec": {
      "display_name": "conda_python3",
      "language": "python",
      "name": "conda_python3"
    },
    "language_info": {
      "codemirror_mode": {
        "name": "ipython",
        "version": 3
      },
      "file_extension": ".py",
      "mimetype": "text/x-python",
      "name": "python",
      "nbconvert_exporter": "python",
      "pygments_lexer": "ipython3",
      "version": "3.6.13"
    },
    "colab": {
      "name": "Untitled2 (1).ipynb",
      "provenance": []
    }
  },
  "nbformat": 4,
  "nbformat_minor": 5
}